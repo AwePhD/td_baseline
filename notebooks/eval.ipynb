{
 "cells": [
  {
   "cell_type": "code",
   "execution_count": 1,
   "metadata": {},
   "outputs": [],
   "source": [
    "# Shame on me\n",
    "import sys\n",
    "sys.path.append(\"./src\")\n",
    "\n",
    "import numpy as np\n",
    "\n",
    "from src.eval import main\n",
    "from src.compute_similarities import average"
   ]
  },
  {
   "cell_type": "code",
   "execution_count": 2,
   "metadata": {},
   "outputs": [],
   "source": [
    "n_threshold = 4\n",
    "n_weight = 10\n",
    "threshold_values, weight_values = np.meshgrid(\n",
    "    np.linspace(.1, .8, n_threshold), \n",
    "    np.linspace(0, 1, n_weight)\n",
    ")"
   ]
  },
  {
   "cell_type": "code",
   "execution_count": 3,
   "metadata": {},
   "outputs": [],
   "source": [
    "mean_average_precisions = np.empty_like(threshold_values)"
   ]
  },
  {
   "cell_type": "code",
   "execution_count": 4,
   "metadata": {},
   "outputs": [
    {
     "name": "stderr",
     "output_type": "stream",
     "text": [
      "2900it [00:51, 56.82it/s]\n",
      "830it [00:13, 60.99it/s]\n"
     ]
    },
    {
     "ename": "KeyboardInterrupt",
     "evalue": "",
     "output_type": "error",
     "traceback": [
      "\u001b[0;31m---------------------------------------------------------------------------\u001b[0m",
      "\u001b[0;31mKeyboardInterrupt\u001b[0m                         Traceback (most recent call last)",
      "Cell \u001b[0;32mIn[4], line 8\u001b[0m\n\u001b[1;32m      3\u001b[0m compute_similarities \u001b[39m=\u001b[39m (\n\u001b[1;32m      4\u001b[0m     \u001b[39mlambda\u001b[39;00m q_txt, q_img, f_img :\n\u001b[1;32m      5\u001b[0m     average(q_txt, q_img, f_img, weight_values[i_weight, j_threshold])\n\u001b[1;32m      6\u001b[0m )\n\u001b[1;32m      7\u001b[0m threshold \u001b[39m=\u001b[39m threshold_values[i_weight, j_threshold]\n\u001b[0;32m----> 8\u001b[0m mean_average_precisions[i_weight, j_threshold] \u001b[39m=\u001b[39m main(compute_similarities, threshold )\n",
      "File \u001b[0;32m/workspace/src/eval.py:324\u001b[0m, in \u001b[0;36mmain\u001b[0;34m(compute_similarities, threshold)\u001b[0m\n\u001b[1;32m    321\u001b[0m n_samples \u001b[39m=\u001b[39m \u001b[39mlen\u001b[39m(annotations\u001b[39m.\u001b[39mgroupby(\u001b[39m\"\u001b[39m\u001b[39mperson_id\u001b[39m\u001b[39m\"\u001b[39m))\n\u001b[1;32m    322\u001b[0m average_precisions \u001b[39m=\u001b[39m torch\u001b[39m.\u001b[39mempty(n_samples, dtype\u001b[39m=\u001b[39mtorch\u001b[39m.\u001b[39mfloat)\n\u001b[0;32m--> 324\u001b[0m \u001b[39mfor\u001b[39;00m i, sample  \u001b[39min\u001b[39;00m tqdm(\u001b[39menumerate\u001b[39m(samples)):\n\u001b[1;32m    325\u001b[0m     average_precisions[i] \u001b[39m=\u001b[39m _evaluate_one_sample(sample, compute_similarities, threshold)\n\u001b[1;32m    327\u001b[0m \u001b[39mreturn\u001b[39;00m np\u001b[39m.\u001b[39mmean([\n\u001b[1;32m    328\u001b[0m     ap \u001b[39mfor\u001b[39;00m ap \u001b[39min\u001b[39;00m average_precisions \u001b[39mif\u001b[39;00m \u001b[39mnot\u001b[39;00m ap\u001b[39m.\u001b[39misnan()\n\u001b[1;32m    329\u001b[0m ])\n",
      "File \u001b[0;32m/opt/conda/lib/python3.8/site-packages/tqdm/std.py:1171\u001b[0m, in \u001b[0;36mtqdm.__iter__\u001b[0;34m(self)\u001b[0m\n\u001b[1;32m   1165\u001b[0m     \u001b[39mraise\u001b[39;00m TqdmDeprecationWarning(\n\u001b[1;32m   1166\u001b[0m         \u001b[39m\"\u001b[39m\u001b[39mPlease use `tqdm.gui.tqdm(...)` instead of\u001b[39m\u001b[39m\"\u001b[39m\n\u001b[1;32m   1167\u001b[0m         \u001b[39m\"\u001b[39m\u001b[39m `tqdm(..., gui=True)`\u001b[39m\u001b[39m\\n\u001b[39;00m\u001b[39m\"\u001b[39m,\n\u001b[1;32m   1168\u001b[0m         fp_write\u001b[39m=\u001b[39m\u001b[39mgetattr\u001b[39m(\u001b[39mself\u001b[39m\u001b[39m.\u001b[39mfp, \u001b[39m'\u001b[39m\u001b[39mwrite\u001b[39m\u001b[39m'\u001b[39m, sys\u001b[39m.\u001b[39mstderr\u001b[39m.\u001b[39mwrite))\n\u001b[1;32m   1170\u001b[0m \u001b[39mtry\u001b[39;00m:\n\u001b[0;32m-> 1171\u001b[0m     \u001b[39mfor\u001b[39;00m obj \u001b[39min\u001b[39;00m iterable:\n\u001b[1;32m   1172\u001b[0m         \u001b[39myield\u001b[39;00m obj\n\u001b[1;32m   1173\u001b[0m         \u001b[39m# Update and possibly print the progressbar.\u001b[39;00m\n\u001b[1;32m   1174\u001b[0m         \u001b[39m# Note: does not call self.update(1) for speed optimisation.\u001b[39;00m\n",
      "File \u001b[0;32m/workspace/src/eval.py:39\u001b[0m, in \u001b[0;36m_load_samples\u001b[0;34m(annotations, frame_id_to_frame_output, crop_index_to_captions_output)\u001b[0m\n\u001b[1;32m     32\u001b[0m \u001b[39mdef\u001b[39;00m \u001b[39m_load_samples\u001b[39m(\n\u001b[1;32m     33\u001b[0m     annotations: pd\u001b[39m.\u001b[39mDataFrame,\n\u001b[1;32m     34\u001b[0m     frame_id_to_frame_output: Dict[\u001b[39mint\u001b[39m, FrameOutput],\n\u001b[1;32m     35\u001b[0m     crop_index_to_captions_output: Dict[CropIndex, torch\u001b[39m.\u001b[39mTensor]\n\u001b[1;32m     36\u001b[0m ) \u001b[39m-\u001b[39m\u001b[39m>\u001b[39m Generator[Sample, \u001b[39mNone\u001b[39;00m, \u001b[39mNone\u001b[39;00m]:\n\u001b[1;32m     37\u001b[0m     \u001b[39mfor\u001b[39;00m _, annotation_sample \u001b[39min\u001b[39;00m annotations\u001b[39m.\u001b[39mgroupby(\u001b[39m\"\u001b[39m\u001b[39mperson_id\u001b[39m\u001b[39m\"\u001b[39m):\n\u001b[1;32m     38\u001b[0m         gt_bboxes \u001b[39m=\u001b[39m (\n\u001b[0;32m---> 39\u001b[0m             annotation_sample[[\u001b[39m\"\u001b[39;49m\u001b[39mbbox_x\u001b[39;49m\u001b[39m\"\u001b[39;49m, \u001b[39m\"\u001b[39;49m\u001b[39mbbox_y\u001b[39;49m\u001b[39m\"\u001b[39;49m,\u001b[39m\"\u001b[39;49m\u001b[39mbbox_w\u001b[39;49m\u001b[39m\"\u001b[39;49m, \u001b[39m\"\u001b[39;49m\u001b[39mbbox_h\u001b[39;49m\u001b[39m\"\u001b[39;49m ]]\n\u001b[1;32m     40\u001b[0m             [annotation_sample\u001b[39m.\u001b[39mbbox_x \u001b[39m!=\u001b[39m \u001b[39m0\u001b[39m ]\n\u001b[1;32m     41\u001b[0m             \u001b[39m# int32 because tensor cannot convert from uint16 (dtype of bbox coords).\u001b[39;00m\n\u001b[1;32m     42\u001b[0m             \u001b[39m.\u001b[39mastype(\u001b[39m'\u001b[39m\u001b[39mInt32\u001b[39m\u001b[39m'\u001b[39m)\n\u001b[1;32m     43\u001b[0m             \u001b[39m.\u001b[39mcopy()\n\u001b[1;32m     44\u001b[0m         )\n\u001b[1;32m     45\u001b[0m         gt_bboxes[\u001b[39m'\u001b[39m\u001b[39mbbox_x_end\u001b[39m\u001b[39m'\u001b[39m] \u001b[39m=\u001b[39m gt_bboxes\u001b[39m.\u001b[39mbbox_x \u001b[39m+\u001b[39m gt_bboxes\u001b[39m.\u001b[39mpop(\u001b[39m\"\u001b[39m\u001b[39mbbox_w\u001b[39m\u001b[39m\"\u001b[39m)\n\u001b[1;32m     46\u001b[0m         gt_bboxes[\u001b[39m'\u001b[39m\u001b[39mbbox_y_end\u001b[39m\u001b[39m'\u001b[39m] \u001b[39m=\u001b[39m gt_bboxes\u001b[39m.\u001b[39mbbox_y \u001b[39m+\u001b[39m gt_bboxes\u001b[39m.\u001b[39mpop(\u001b[39m\"\u001b[39m\u001b[39mbbox_h\u001b[39m\u001b[39m\"\u001b[39m)\n",
      "File \u001b[0;32m/opt/conda/lib/python3.8/site-packages/pandas/core/frame.py:3767\u001b[0m, in \u001b[0;36mDataFrame.__getitem__\u001b[0;34m(self, key)\u001b[0m\n\u001b[1;32m   3765\u001b[0m     \u001b[39mif\u001b[39;00m is_iterator(key):\n\u001b[1;32m   3766\u001b[0m         key \u001b[39m=\u001b[39m \u001b[39mlist\u001b[39m(key)\n\u001b[0;32m-> 3767\u001b[0m     indexer \u001b[39m=\u001b[39m \u001b[39mself\u001b[39;49m\u001b[39m.\u001b[39;49mcolumns\u001b[39m.\u001b[39;49m_get_indexer_strict(key, \u001b[39m\"\u001b[39;49m\u001b[39mcolumns\u001b[39;49m\u001b[39m\"\u001b[39;49m)[\u001b[39m1\u001b[39m]\n\u001b[1;32m   3769\u001b[0m \u001b[39m# take() does not accept boolean indexers\u001b[39;00m\n\u001b[1;32m   3770\u001b[0m \u001b[39mif\u001b[39;00m \u001b[39mgetattr\u001b[39m(indexer, \u001b[39m\"\u001b[39m\u001b[39mdtype\u001b[39m\u001b[39m\"\u001b[39m, \u001b[39mNone\u001b[39;00m) \u001b[39m==\u001b[39m \u001b[39mbool\u001b[39m:\n",
      "File \u001b[0;32m/opt/conda/lib/python3.8/site-packages/pandas/core/indexes/base.py:5872\u001b[0m, in \u001b[0;36mIndex._get_indexer_strict\u001b[0;34m(self, key, axis_name)\u001b[0m\n\u001b[1;32m   5870\u001b[0m \u001b[39mif\u001b[39;00m \u001b[39mself\u001b[39m\u001b[39m.\u001b[39m_index_as_unique:\n\u001b[1;32m   5871\u001b[0m     indexer \u001b[39m=\u001b[39m \u001b[39mself\u001b[39m\u001b[39m.\u001b[39mget_indexer_for(keyarr)\n\u001b[0;32m-> 5872\u001b[0m     keyarr \u001b[39m=\u001b[39m \u001b[39mself\u001b[39;49m\u001b[39m.\u001b[39;49mreindex(keyarr)[\u001b[39m0\u001b[39m]\n\u001b[1;32m   5873\u001b[0m \u001b[39melse\u001b[39;00m:\n\u001b[1;32m   5874\u001b[0m     keyarr, indexer, new_indexer \u001b[39m=\u001b[39m \u001b[39mself\u001b[39m\u001b[39m.\u001b[39m_reindex_non_unique(keyarr)\n",
      "File \u001b[0;32m/opt/conda/lib/python3.8/site-packages/pandas/core/indexes/base.py:4238\u001b[0m, in \u001b[0;36mIndex.reindex\u001b[0;34m(self, target, method, level, limit, tolerance)\u001b[0m\n\u001b[1;32m   4235\u001b[0m preserve_names \u001b[39m=\u001b[39m \u001b[39mnot\u001b[39;00m \u001b[39mhasattr\u001b[39m(target, \u001b[39m\"\u001b[39m\u001b[39mname\u001b[39m\u001b[39m\"\u001b[39m)\n\u001b[1;32m   4237\u001b[0m \u001b[39m# GH7774: preserve dtype/tz if target is empty and not an Index.\u001b[39;00m\n\u001b[0;32m-> 4238\u001b[0m target \u001b[39m=\u001b[39m ensure_has_len(target)  \u001b[39m# target may be an iterator\u001b[39;00m\n\u001b[1;32m   4240\u001b[0m \u001b[39mif\u001b[39;00m \u001b[39mnot\u001b[39;00m \u001b[39misinstance\u001b[39m(target, Index) \u001b[39mand\u001b[39;00m \u001b[39mlen\u001b[39m(target) \u001b[39m==\u001b[39m \u001b[39m0\u001b[39m:\n\u001b[1;32m   4241\u001b[0m     \u001b[39mif\u001b[39;00m level \u001b[39mis\u001b[39;00m \u001b[39mnot\u001b[39;00m \u001b[39mNone\u001b[39;00m \u001b[39mand\u001b[39;00m \u001b[39mself\u001b[39m\u001b[39m.\u001b[39m_is_multi:\n\u001b[1;32m   4242\u001b[0m         \u001b[39m# \"Index\" has no attribute \"levels\"; maybe \"nlevels\"?\u001b[39;00m\n",
      "File \u001b[0;32m/opt/conda/lib/python3.8/site-packages/pandas/core/indexes/base.py:7132\u001b[0m, in \u001b[0;36mensure_has_len\u001b[0;34m(seq)\u001b[0m\n\u001b[1;32m   7128\u001b[0m \u001b[39mdef\u001b[39;00m \u001b[39mensure_has_len\u001b[39m(seq):\n\u001b[1;32m   7129\u001b[0m     \u001b[39m\"\"\"\u001b[39;00m\n\u001b[1;32m   7130\u001b[0m \u001b[39m    If seq is an iterator, put its values into a list.\u001b[39;00m\n\u001b[1;32m   7131\u001b[0m \u001b[39m    \"\"\"\u001b[39;00m\n\u001b[0;32m-> 7132\u001b[0m     \u001b[39mtry\u001b[39;00m:\n\u001b[1;32m   7133\u001b[0m         \u001b[39mlen\u001b[39m(seq)\n\u001b[1;32m   7134\u001b[0m     \u001b[39mexcept\u001b[39;00m \u001b[39mTypeError\u001b[39;00m:\n",
      "\u001b[0;31mKeyboardInterrupt\u001b[0m: "
     ]
    }
   ],
   "source": [
    "for i_weight in range(n_weight):\n",
    "    for j_threshold in range(n_threshold):\n",
    "        compute_similarities = (\n",
    "            lambda q_txt, q_img, f_img :\n",
    "            average(q_txt, q_img, f_img, weight_values[i_weight, j_threshold])\n",
    "        )\n",
    "        threshold = threshold_values[i_weight, j_threshold]\n",
    "        mean_average_precisions[i_weight, j_threshold] = main(compute_similarities, threshold )"
   ]
  },
  {
   "cell_type": "code",
   "execution_count": null,
   "metadata": {},
   "outputs": [],
   "source": [
    "with open(\"eval_result_grid\", \"w+\") as f:\n",
    "    np.save(f, mean_average_precisions)"
   ]
  }
 ],
 "metadata": {
  "kernelspec": {
   "display_name": "base",
   "language": "python",
   "name": "python3"
  },
  "language_info": {
   "codemirror_mode": {
    "name": "ipython",
    "version": 3
   },
   "file_extension": ".py",
   "mimetype": "text/x-python",
   "name": "python",
   "nbconvert_exporter": "python",
   "pygments_lexer": "ipython3",
   "version": "3.8.8"
  },
  "orig_nbformat": 4
 },
 "nbformat": 4,
 "nbformat_minor": 2
}
